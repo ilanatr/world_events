{
 "cells": [
  {
   "cell_type": "code",
   "execution_count": null,
   "id": "47d0302b-15d6-45cb-b927-f9bd402ad3aa",
   "metadata": {},
   "outputs": [
    {
     "name": "stderr",
     "output_type": "stream",
     "text": [
      "C:\\Users\\Ilana\\AppData\\Local\\Temp\\ipykernel_19072\\2151744951.py:1: DeprecationWarning: \n",
      "Pyarrow will become a required dependency of pandas in the next major release of pandas (pandas 3.0),\n",
      "(to allow more performant data types, such as the Arrow string type, and better interoperability with other libraries)\n",
      "but was not found to be installed on your system.\n",
      "If this would cause problems for you,\n",
      "please provide us feedback at https://github.com/pandas-dev/pandas/issues/54466\n",
      "        \n",
      "  import pandas as pd\n"
     ]
    }
   ],
   "source": [
    "import pandas as pd\n",
    "import numpy as np\n",
    "import matplotlib.pyplot as plt"
   ]
  },
  {
   "cell_type": "code",
   "execution_count": null,
   "id": "c8dcb98a-b4bc-4bb1-bd1f-f54ad31e178a",
   "metadata": {},
   "outputs": [],
   "source": [
    "df = pd.read_csv('Dropbox/Careers/Data Analytics/Portfolio/World Important Dates.csv')"
   ]
  },
  {
   "cell_type": "code",
   "execution_count": null,
   "id": "8ff5c349-24f4-474b-9136-ea8062fc7500",
   "metadata": {},
   "outputs": [],
   "source": [
    "display(df.head())"
   ]
  },
  {
   "cell_type": "code",
   "execution_count": null,
   "id": "c65694e5-ce49-4a71-bd22-4de5deeb9a08",
   "metadata": {},
   "outputs": [],
   "source": [
    "print(df.describe(include ='all'))"
   ]
  },
  {
   "cell_type": "code",
   "execution_count": null,
   "id": "8dc05eae-72b7-47b0-ba85-64b5bba2a382",
   "metadata": {},
   "outputs": [],
   "source": [
    "print(df.dtypes)"
   ]
  },
  {
   "cell_type": "code",
   "execution_count": null,
   "id": "c8aadb2d-91a5-4468-a652-e9b75477beea",
   "metadata": {},
   "outputs": [],
   "source": [
    "missing_values_row = df.isnull().sum(axis=0)\n",
    "\n",
    "print(missing_values_row)"
   ]
  },
  {
   "cell_type": "code",
   "execution_count": null,
   "id": "3d8a9db6-a82a-4929-b3fa-cc3b6cfc988c",
   "metadata": {},
   "outputs": [],
   "source": [
    "#create new clean year column is an integer so that BC is - and AD is +\n",
    "def convert_year(year_value):\n",
    "    sign = -1 if 'BC' in year_value else 1\n",
    "    year = int(year_value.replace('BC', ' '))\n",
    "    return year*sign\n",
    "\n",
    "df['Year_formatted'] = df['Year'].apply(lambda x: convert_year(x))\n",
    "\n",
    "print(df['Year_formatted'].head())\n",
    "\n",
    "\n",
    "print(df['Year_formatted'].tail())"
   ]
  },
  {
   "cell_type": "code",
   "execution_count": null,
   "id": "7acd745c-ebbf-476e-a21d-9baebbb3b63e",
   "metadata": {},
   "outputs": [],
   "source": [
    "#how many events occurred each year?\n",
    "events_by_year = df.groupby('Year_formatted')['Name of Incident'].count().reset_index()\n",
    "events_by_year.columns = ['Year', 'Number of Events']\n",
    "\n",
    "display(events_by_year)"
   ]
  },
  {
   "cell_type": "code",
   "execution_count": null,
   "id": "98cc8052-a111-4d19-ba17-16de77fcb6b4",
   "metadata": {},
   "outputs": [],
   "source": [
    "#plot a histogram of the number of events per year\n",
    "plt.hist(df['Year_formatted'], bins=100) \n",
    "plt.title('Number of events per year')\n",
    "plt.xlabel('Year')\n",
    "plt.ylabel('Number of Events')\n",
    "plt.show()"
   ]
  },
  {
   "cell_type": "code",
   "execution_count": null,
   "id": "e8e7c095-db6e-4697-81c4-cf1fa21eca37",
   "metadata": {},
   "outputs": [],
   "source": [
    "print(df['Year_formatted'].max())\n",
    "print(df['Year_formatted'].min())"
   ]
  },
  {
   "cell_type": "code",
   "execution_count": null,
   "id": "922aab24-39a5-4487-b305-a4af9f216a26",
   "metadata": {},
   "outputs": [],
   "source": [
    "#plot a histogram of the number of events per year in BC\n",
    "plt.hist(df['Year_formatted'], bins=100, range = (-3000, 0)) \n",
    "plt.title('Number of events per year')\n",
    "plt.xlabel('Year')\n",
    "plt.ylabel('Number of Events')\n",
    "plt.show()"
   ]
  },
  {
   "cell_type": "code",
   "execution_count": null,
   "id": "be8e4fa4-e202-4ffc-a859-ca4315781036",
   "metadata": {},
   "outputs": [],
   "source": [
    "#what type of events are there?\n",
    "print(df['Type of Event'].value_counts())"
   ]
  },
  {
   "cell_type": "code",
   "execution_count": null,
   "id": "ad59dec3-4b8a-4ccb-afae-3aed4d10469b",
   "metadata": {},
   "outputs": [],
   "source": [
    "#create a BC df\n",
    "df_BC = df[df['Year_formatted'] <=0]\n",
    "print(df_BC.head())\n",
    "print(df_BC.info())"
   ]
  },
  {
   "cell_type": "code",
   "execution_count": null,
   "id": "aebaba58-bd04-459a-accc-313e52233313",
   "metadata": {},
   "outputs": [],
   "source": [
    "#create an AD df\n",
    "df_AD = df[df['Year_formatted'] > 0]\n",
    "print(df_AD.head())\n",
    "print(df_AD.info())"
   ]
  },
  {
   "cell_type": "code",
   "execution_count": null,
   "id": "49dbf774-b53f-484e-96c3-4a531bd6b1e9",
   "metadata": {},
   "outputs": [],
   "source": [
    "#create manual clusters for type of event\n",
    "# Create a new column to store the cluster labels\n",
    "df['Cluster'] = None\n",
    "\n",
    "# Define the keywords for each cluster\n",
    "keyword_clusters = {\n",
    "    'Military & Conflict': ['Military', 'War', 'Civil War', 'WWII', 'Secession', 'Naval', 'War Declaration', 'Battle', 'Conquest', 'Coup', 'Conflict', 'Insurgency','Offensive', 'Crusade', 'Defense', 'Ceasefire', 'Protest',  'Rebellion', 'Revolt', 'Resistance', 'Dictator', 'Uprising', 'Revolution'],\n",
    "    'Political & Governance': ['Political', 'Leadership', 'Corruption', 'Assassination', 'Religious', 'Scandal', 'Electoral', 'Civil', 'Election', 'Referendum', 'Politics'],\n",
    "    'Economic & Labour': ['Economic', 'Trade', 'Banking', 'Finance', 'Labor'],\n",
    "    'Extremism & Crime': ['Terrorism', 'Criminal Incident', 'Violence', 'Crime', 'Execution'],\n",
    "    'Human Rights & Social Issues': ['Unrest', 'Social', 'Human Rights', 'National Movement', 'Reconciliation', 'Population'],\n",
    "    'Environment': ['Environmental', 'Conservation'],\n",
    "    'Accidents & Disasters':['Natural', 'Disaster', 'Rescue', 'Accident', 'Famine'],\n",
    "    'Security & Defence': ['Nuclear', 'Security'],\n",
    "    'International Relations & Diplomacy':['International',  'International Crisis', 'International Incident','Negotiation',  'Conference', 'Government Agency', 'International Organization',  'Cooperation', 'International Integration', 'Foreign Policy', 'Relations', 'Agreement', 'Treaty', 'International Policy', 'Diplomatic', 'Summit'],\n",
    "    'Independence & Peace':['Independence', 'Partition', 'Peace', 'Country Formation', 'Union', 'Unification', 'Formation', 'Annexation', 'State Establishment','Territorial', 'Federation', 'Nationalization', 'Protectorate'],\n",
    "    'Sovereign':['Monarch', 'Dynastic', 'Coronation', 'Empire', 'Sovereign', 'Colonial'],\n",
    "    'Genocide': ['Pogrom', 'Holocaust', 'Genocide', 'Massacre'],\n",
    "    'Legislation & Regulation' : ['Administration', 'Investigation', 'Legislation', 'Legal', 'Judiciary', 'Regulatory', 'Justice', 'Constitution', 'Administrative', 'Legislative', 'Judicial'],\n",
    "    'Science & Techhnology':['Aviation', 'Maritime', 'Space', 'Exploration', 'Technology', 'Telecommunication', 'Scientific', 'Engineering', 'Innovation', 'Technological', 'Modernization'],   \n",
    "    'Historical & Cultural Events':['Historical', 'Mausoleum', 'Monument', 'Media', 'Sports', 'Sport','Cultural', 'Literature','Era Change', 'Industrial', 'Civilization', 'Historical Period', 'Commemoration', 'Memorial', 'Discovery', 'Event', 'Art', 'Architecture', 'Expo', 'Exhibition', 'Architectural', 'Fair',],\n",
    "    'Infrastructure & Urbanisation': [ 'Structural', 'Land','Urban Development', 'Housing', 'Infrastructure', 'Reconstruction', 'Rail'],\n",
    "    'Other': ['Foundation', 'Recognition',  'Found', 'Decline'],\n",
    "    'Education': ['Education'],\n",
    "    'Aid & International Relations': ['Humanitarian', 'Aid'],\n",
    "    'Migration & Displacement':['Refugee', 'Settlement', 'Relocation'],\n",
    "    'Pandemic & Health Crises': ['Pandemic', 'Health','Medical']\n",
    "    # Add more clusters and corresponding keywords as needed\n",
    "}\n",
    "\n",
    "# Assign cluster labels based on keyword matching\n",
    "for cluster, keywords in keyword_clusters.items():\n",
    "    mask = df['Type of Event'].str.contains('|'.join(keywords), case=False)\n",
    "    df.loc[mask, 'Cluster'] = cluster\n",
    "\n",
    "# Display the DataFrame with cluster labels\n",
    "#print(df.head())"
   ]
  },
  {
   "cell_type": "code",
   "execution_count": null,
   "id": "3a8e72eb-2245-4336-92b3-bf0d3574ed98",
   "metadata": {},
   "outputs": [],
   "source": [
    "display( df.groupby('Cluster')['Sl. No'].sum().sort_values(ascending=False))"
   ]
  },
  {
   "cell_type": "code",
   "execution_count": null,
   "id": "3c3c1002-9378-4c7c-bcb7-e5fa075f2ee5",
   "metadata": {},
   "outputs": [],
   "source": [
    "print(df['Cluster'].isnull().sum())"
   ]
  },
  {
   "cell_type": "code",
   "execution_count": null,
   "id": "1bf0474a-c8d7-40cf-b471-a4c3b94045c3",
   "metadata": {},
   "outputs": [],
   "source": [
    "null_cluster_by_event = pd.crosstab(\n",
    "    index=df['Type of Event'],\n",
    "    columns=df['Cluster'].isnull(),\n",
    "    rownames=['Type of Event'],\n",
    "    colnames=['Cluster is null']\n",
    ")\n",
    "\n",
    "# Select rows where \"Cluster is null\" column is True and only include \"Cluster\" and \"Type of Event\" columns\n",
    "selected_rows = df[df['Cluster'].isnull()][['Cluster', 'Type of Event']]\n",
    "\n",
    "# Display the selected rows\n",
    "print(selected_rows)\n"
   ]
  },
  {
   "cell_type": "code",
   "execution_count": null,
   "id": "96711bb7-082c-47f8-91d5-dc89d6f101fd",
   "metadata": {},
   "outputs": [],
   "source": [
    "#What is the most common type of event by year?\n",
    "display(df.head())"
   ]
  },
  {
   "cell_type": "code",
   "execution_count": null,
   "id": "a495a139-8ecc-4c59-b457-a84078b26ad3",
   "metadata": {},
   "outputs": [],
   "source": [
    "events_by_year = df.groupby('Year_formatted')['Cluster'].sum().reset_index()\n",
    "events_by_year.columns = ['Year', 'Type of Event']\n",
    "\n",
    "display(events_by_year)"
   ]
  },
  {
   "cell_type": "code",
   "execution_count": null,
   "id": "ffd22051-75fc-4fd2-b88f-63b75bcd7d83",
   "metadata": {},
   "outputs": [],
   "source": [
    "import seaborn as sns"
   ]
  },
  {
   "cell_type": "code",
   "execution_count": null,
   "id": "0eef7bf5-de9b-4057-a008-510c59d6980a",
   "metadata": {},
   "outputs": [],
   "source": [
    "events_by_year_AD = df_AD.groupby('Cluster')['Sl. No'].sum().reset_index()\n",
    "\n",
    "display(events_by_year_AD)"
   ]
  },
  {
   "cell_type": "code",
   "execution_count": null,
   "id": "689358b2-1ca8-494b-8fda-d7bf97a38f2d",
   "metadata": {},
   "outputs": [],
   "source": [
    "# Assuming 'Cluster' is the x-axis and 'Sl. No' is the y-axis\n",
    "\n",
    "# Sort the DataFrame by the sum of 'Sl. No' in descending order\n",
    "df_AD_sorted = df_AD.groupby('Cluster')['Sl. No'].sum().reset_index()\n",
    "df_AD_sorted = df_AD_sorted.sort_values(by='Sl. No', ascending=False)\n",
    "\n",
    "plt.figure(figsize=(14,10))\n",
    "plt.bar(df_AD_sorted['Cluster'], df_AD_sorted['Sl. No'])\n",
    "plt.title('Number of Events by Cluster (AD Years)')\n",
    "plt.xlabel('Type of Event')\n",
    "plt.ylabel('Number of Events')\n",
    "plt.xticks(range(len(df_AD_sorted['Cluster'])), df_AD_sorted['Cluster'], rotation=45, fontsize=10)\n",
    "plt.tight_layout()  # Adjust layout to prevent any clipping of labels\n",
    "plt.show()\n",
    "plt.clf()\n"
   ]
  },
  {
   "cell_type": "code",
   "execution_count": null,
   "id": "dd5799fc-a783-4b0b-bd3c-95c79941d35c",
   "metadata": {},
   "outputs": [],
   "source": [
    "#create a time series where the x axis is the year and the y axis is the number of events and these are categorised/hue by the type of event\n",
    "# Define the bin edges for 100-year intervals\n",
    "bin_edges = np.arange(df_AD['Year_formatted'].min(), df_AD['Year_formatted'].max() + 101, 100)\n",
    "\n",
    "# Group the data by year and type of event and calculate the count\n",
    "events_by_year_type = df_AD.groupby([pd.cut(df['Year_formatted'], bin_edges), 'Cluster']).size().unstack(fill_value=0)\n",
    "\n",
    "plt.figure(figsize=(14, 10))\n",
    "\n",
    "bar_width = 0.1\n",
    "bar_padding = 2\n",
    "index = np.arange(len(events_by_year_type.index))\n",
    "\n",
    "for i, cluster in enumerate(events_by_year_type.columns):\n",
    "    plt.bar(index + i * bar_width, events_by_year_type[cluster], bar_width, label=cluster)\n",
    "\n",
    "plt.title('Types of Events Over the Years')\n",
    "plt.xlabel('Year Range')\n",
    "plt.ylabel('Number of Events')\n",
    "plt.xticks(index + (bar_width * len(events_by_year_type.columns) / 2), events_by_year_type.index, rotation=45)\n",
    "plt.legend(title='Type of Event', bbox_to_anchor=(1.05, 1), loc='upper left')\n",
    "plt.tight_layout()\n",
    "plt.show()\n"
   ]
  },
  {
   "cell_type": "code",
   "execution_count": null,
   "id": "a057b405-637a-4e91-b12a-82a6f6de0bc4",
   "metadata": {},
   "outputs": [],
   "source": [
    "#1600s onwards - create a time series where the x axis is the year and the y axis is the number of events and these are categorised/hue by the type of event\n",
    "# Define the bin edges for 100-year intervals\n",
    "bin_edges = np.arange(df_AD['Year_formatted'].min(), df_AD['Year_formatted'].max() + 101, 100) #creates an array of evenly spaced values (bin edges) - returns min and max values in year, adds 101 to ensure that the max year is included and increments by 100 \n",
    "\n",
    "# Group the data by year and type of event and calculate the count\n",
    "events_by_year_type = df_AD.groupby([pd.cut(df['Year_formatted'], bin_edges), 'Cluster']).size().unstack(fill_value=0) \n",
    "#groups the data by year as per the bin edges and the type of event (cluster) by counting the number of occurrences of the cluster and year\n",
    "\n",
    "plt.figure(figsize=(14, 12))\n",
    "\n",
    "bar_width = 0.1\n",
    "bar_padding = 3\n",
    "index = np.arange(len(events_by_year_type.index)) #creates an index from 0 to the length of the events by year on the x axis\n",
    "\n",
    "for i, cluster in enumerate(events_by_year_type.columns): #iterates over each column of the events by year df to get the i of each cluster \n",
    "    plt.bar(index + i * bar_width, events_by_year_type[cluster], bar_width, label=cluster)\n",
    "\n",
    "plt.title('Types of Events Over the Years')\n",
    "plt.xlabel('Year Range')\n",
    "plt.ylabel('Number of Events')\n",
    "plt.xticks(index + (bar_width * len(events_by_year_type.columns) / 2), events_by_year_type.index, rotation=45)\n",
    "plt.xlim(16, len(events_by_year_type.index))  # Adjust the range from the 1600s onwards\n",
    "plt.legend(title='Type of Event', bbox_to_anchor=(1.05, 1), loc='upper left')\n",
    "plt.tight_layout()\n",
    "plt.show()"
   ]
  },
  {
   "cell_type": "code",
   "execution_count": null,
   "id": "680c8359-7cab-411a-9409-74cd6026d899",
   "metadata": {},
   "outputs": [],
   "source": [
    "# Specify the file path where you want to save the CSV file\n",
    "file_path = 'C:\\\\Users\\\\Ilana\\\\Dropbox\\\\Careers\\\\Data Analytics\\\\Portfolio\\\\world_events.csv'\n",
    "\n",
    "# Save the DataFrame to a CSV file\n",
    "df.to_csv(file_path, index=False)\n"
   ]
  },
  {
   "cell_type": "code",
   "execution_count": null,
   "id": "733f2565-5da5-47aa-8a31-8aed2c012589",
   "metadata": {},
   "outputs": [],
   "source": [
    "df_sixteenhundreds = df_AD['Year_formatted']>=1600\n",
    "print(df_sixteenhundreds.head())"
   ]
  },
  {
   "cell_type": "code",
   "execution_count": null,
   "id": "acbcd336-2538-41fb-82a8-d72abd747981",
   "metadata": {},
   "outputs": [],
   "source": [
    "# Define the bin edges for 100-year intervals\n",
    "# Group the data by year range and type of event and calculate the count\n",
    "Year_sixteenhundreds = df_AD[df_AD['Year_formatted'].apply(lambda x: x.left >= 1600)]\n",
    "\n",
    "plt.figure(figsize=(14, 12))\n",
    "\n",
    "sns.barplot(data=Year_sixteenhundreds, x='Year_formatted', y='Sl. No', hue='Cluster', palette='viridis')\n",
    "\n",
    "plt.title('Types of Events Over the Years')\n",
    "plt.xlabel('Year Range')\n",
    "plt.ylabel('Number of Events')\n",
    "plt.xticks(rotation=45)\n",
    "plt.tight_layout()\n",
    "plt.show()"
   ]
  },
  {
   "cell_type": "code",
   "execution_count": null,
   "id": "66c40f9c-2071-4530-b2ad-b2b78a67cd0f",
   "metadata": {},
   "outputs": [],
   "source": []
  }
 ],
 "metadata": {
  "kernelspec": {
   "display_name": "Python 3 (ipykernel)",
   "language": "python",
   "name": "python3"
  },
  "language_info": {
   "codemirror_mode": {
    "name": "ipython",
    "version": 3
   },
   "file_extension": ".py",
   "mimetype": "text/x-python",
   "name": "python",
   "nbconvert_exporter": "python",
   "pygments_lexer": "ipython3",
   "version": "3.12.1"
  }
 },
 "nbformat": 4,
 "nbformat_minor": 5
}
